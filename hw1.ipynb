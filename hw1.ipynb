{
 "cells": [
  {
   "cell_type": "markdown",
   "id": "462e7e30",
   "metadata": {},
   "source": [
    "# 冰與火之歌角色生存預測\n",
    "\n"
   ]
  },
  {
   "cell_type": "markdown",
   "id": "76a2b584",
   "metadata": {},
   "source": [
    "## About Dataset\n",
    "\n",
    "Game of Thrones is a hit fantasy tv show based on the equally famous book series \"A Song of Fire and Ice\" by George RR Martin. The show is well known for its vastly complicated political landscape, large number of characters, and its frequent character deaths.\n",
    "       \n",
    "we have character-deaths.csv from Erin Pierce and Ben Kahle. This dataset was created as a part of their Bayesian Survival Analysis.       \n",
    "  \n",
    "\n",
    "    \n",
    "\n",
    ">- 本次作業為根據角色資訊來預測角色是否死亡 ，資料集character-deaths.csv在以下網址：\n",
    ">- https://www.kaggle.com/mylesoneill/game-of-thrones\n",
    "\n",
    ">- HW1 Kaggle 競賽網址：\n",
    ">- https://www.kaggle.com/t/94d5024975a943f0126e8a26060451a4\n",
    " \n",
    "  \n",
    "\n",
    "\n"
   ]
  },
  {
   "cell_type": "markdown",
   "id": "ffaeb215",
   "metadata": {},
   "source": [
    "## 1. 讀取資料\n",
    "\n",
    "#### 資料欄位說明：\n",
    "   >- Name：\n",
    "   >- Allegiances：應該是忠於什麼陣營的意思\n",
    "   >- Death Year：角色死亡年\n",
    "   >- Book of Death：角色死亡集數\n",
    "   >- Death Chapter：角色死亡章節\n",
    "   >- Book Intro Chapter：章節人物介绍於何章\n",
    "   >- Gender： 1 is male, 0 is female\n",
    "   >- Nobility：1 is nobel, 0 is a commoner\n",
    "   >- GoT：Appeared in first book\n",
    "   >- CoK：Appeared in second book\n",
    "   >- SoS：Appeared in third book\n",
    "   >- FfC：Appeared in fourth book\n",
    "   >- DwD：Appeared in fifth book"
   ]
  },
  {
   "cell_type": "code",
   "execution_count": 1,
   "id": "f58b807d",
   "metadata": {},
   "outputs": [],
   "source": [
    "import pandas as pd\n",
    "\n",
    "# 主要使用 character-deaths.csv這份資料-->已將其分為train, test兩份檔案\n",
    "train = pd.read_csv(\"train.csv\", header=0, encoding='utf-8')\n",
    "test = pd.read_csv(\"test.csv\", header=0, encoding='utf-8')"
   ]
  },
  {
   "cell_type": "code",
   "execution_count": 2,
   "id": "2ca3f622",
   "metadata": {},
   "outputs": [
    {
     "data": {
      "text/html": [
       "<div>\n",
       "<style scoped>\n",
       "    .dataframe tbody tr th:only-of-type {\n",
       "        vertical-align: middle;\n",
       "    }\n",
       "\n",
       "    .dataframe tbody tr th {\n",
       "        vertical-align: top;\n",
       "    }\n",
       "\n",
       "    .dataframe thead th {\n",
       "        text-align: right;\n",
       "    }\n",
       "</style>\n",
       "<table border=\"1\" class=\"dataframe\">\n",
       "  <thead>\n",
       "    <tr style=\"text-align: right;\">\n",
       "      <th></th>\n",
       "      <th>Character</th>\n",
       "      <th>Name</th>\n",
       "      <th>Allegiances</th>\n",
       "      <th>Death Year</th>\n",
       "      <th>Book of Death</th>\n",
       "      <th>Death Chapter</th>\n",
       "      <th>Book Intro Chapter</th>\n",
       "      <th>Gender</th>\n",
       "      <th>Nobility</th>\n",
       "      <th>GoT</th>\n",
       "      <th>CoK</th>\n",
       "      <th>SoS</th>\n",
       "      <th>FfC</th>\n",
       "      <th>DwD</th>\n",
       "    </tr>\n",
       "  </thead>\n",
       "  <tbody>\n",
       "    <tr>\n",
       "      <th>0</th>\n",
       "      <td>155</td>\n",
       "      <td>Creighton Longbough</td>\n",
       "      <td>None</td>\n",
       "      <td>NaN</td>\n",
       "      <td>NaN</td>\n",
       "      <td>NaN</td>\n",
       "      <td>4.0</td>\n",
       "      <td>1</td>\n",
       "      <td>0</td>\n",
       "      <td>0</td>\n",
       "      <td>0</td>\n",
       "      <td>0</td>\n",
       "      <td>1</td>\n",
       "      <td>0</td>\n",
       "    </tr>\n",
       "    <tr>\n",
       "      <th>1</th>\n",
       "      <td>362</td>\n",
       "      <td>Howd Wanderer</td>\n",
       "      <td>Wildling</td>\n",
       "      <td>NaN</td>\n",
       "      <td>NaN</td>\n",
       "      <td>NaN</td>\n",
       "      <td>58.0</td>\n",
       "      <td>1</td>\n",
       "      <td>1</td>\n",
       "      <td>0</td>\n",
       "      <td>0</td>\n",
       "      <td>0</td>\n",
       "      <td>0</td>\n",
       "      <td>1</td>\n",
       "    </tr>\n",
       "    <tr>\n",
       "      <th>2</th>\n",
       "      <td>868</td>\n",
       "      <td>Watt</td>\n",
       "      <td>Night's Watch</td>\n",
       "      <td>299.0</td>\n",
       "      <td>3.0</td>\n",
       "      <td>75.0</td>\n",
       "      <td>69.0</td>\n",
       "      <td>1</td>\n",
       "      <td>0</td>\n",
       "      <td>0</td>\n",
       "      <td>0</td>\n",
       "      <td>1</td>\n",
       "      <td>0</td>\n",
       "      <td>0</td>\n",
       "    </tr>\n",
       "    <tr>\n",
       "      <th>3</th>\n",
       "      <td>101</td>\n",
       "      <td>Borcas</td>\n",
       "      <td>Night's Watch</td>\n",
       "      <td>NaN</td>\n",
       "      <td>NaN</td>\n",
       "      <td>NaN</td>\n",
       "      <td>48.0</td>\n",
       "      <td>1</td>\n",
       "      <td>0</td>\n",
       "      <td>1</td>\n",
       "      <td>0</td>\n",
       "      <td>0</td>\n",
       "      <td>0</td>\n",
       "      <td>0</td>\n",
       "    </tr>\n",
       "    <tr>\n",
       "      <th>4</th>\n",
       "      <td>199</td>\n",
       "      <td>Donnis</td>\n",
       "      <td>House Stark</td>\n",
       "      <td>NaN</td>\n",
       "      <td>NaN</td>\n",
       "      <td>NaN</td>\n",
       "      <td>7.0</td>\n",
       "      <td>1</td>\n",
       "      <td>0</td>\n",
       "      <td>1</td>\n",
       "      <td>0</td>\n",
       "      <td>0</td>\n",
       "      <td>0</td>\n",
       "      <td>0</td>\n",
       "    </tr>\n",
       "  </tbody>\n",
       "</table>\n",
       "</div>"
      ],
      "text/plain": [
       "   Character                 Name    Allegiances  Death Year  Book of Death  \\\n",
       "0        155  Creighton Longbough           None         NaN            NaN   \n",
       "1        362        Howd Wanderer       Wildling         NaN            NaN   \n",
       "2        868                 Watt  Night's Watch       299.0            3.0   \n",
       "3        101               Borcas  Night's Watch         NaN            NaN   \n",
       "4        199               Donnis    House Stark         NaN            NaN   \n",
       "\n",
       "   Death Chapter  Book Intro Chapter  Gender  Nobility  GoT  CoK  SoS  FfC  \\\n",
       "0            NaN                 4.0       1         0    0    0    0    1   \n",
       "1            NaN                58.0       1         1    0    0    0    0   \n",
       "2           75.0                69.0       1         0    0    0    1    0   \n",
       "3            NaN                48.0       1         0    1    0    0    0   \n",
       "4            NaN                 7.0       1         0    1    0    0    0   \n",
       "\n",
       "   DwD  \n",
       "0    0  \n",
       "1    1  \n",
       "2    0  \n",
       "3    0  \n",
       "4    0  "
      ]
     },
     "execution_count": 2,
     "metadata": {},
     "output_type": "execute_result"
    }
   ],
   "source": [
    "train.head()\n",
    "# 觀察資料的欄位和資料型態"
   ]
  },
  {
   "cell_type": "markdown",
   "id": "66bed460",
   "metadata": {},
   "source": [
    "## 2. 資料前處理\n",
    "\n",
    "\n",
    "\n",
    "\n"
   ]
  },
  {
   "cell_type": "code",
   "execution_count": 3,
   "id": "4287ef57",
   "metadata": {},
   "outputs": [
    {
     "data": {
      "text/plain": [
       "Character               0\n",
       "Name                    0\n",
       "Allegiances             0\n",
       "Death Year            444\n",
       "Book of Death         442\n",
       "Death Chapter         448\n",
       "Book Intro Chapter     11\n",
       "Gender                  0\n",
       "Nobility                0\n",
       "GoT                     0\n",
       "CoK                     0\n",
       "SoS                     0\n",
       "FfC                     0\n",
       "DwD                     0\n",
       "dtype: int64"
      ]
     },
     "execution_count": 3,
     "metadata": {},
     "output_type": "execute_result"
    }
   ],
   "source": [
    "train.isnull().sum()  \n",
    "\n",
    "#檢查各個欄位是否有缺值--> Book Intro Chapter有缺值"
   ]
  },
  {
   "cell_type": "markdown",
   "id": "aba0a9f8",
   "metadata": {},
   "source": [
    "### 2-1 把空值以0替代\n",
    "#### 將Book Intro Chapter中的NAN先以0來填補(代表沒出現)"
   ]
  },
  {
   "cell_type": "code",
   "execution_count": 4,
   "id": "f0a587e9",
   "metadata": {},
   "outputs": [],
   "source": [
    "train.loc[train['Book Intro Chapter'].isnull(),'Book Intro Chapter']=0\n",
    "test.loc[test['Book Intro Chapter'].isnull(),'Book Intro Chapter']=0\n",
    "\n",
    "#  把空值以0替代"
   ]
  },
  {
   "cell_type": "code",
   "execution_count": 5,
   "id": "4e6a3812",
   "metadata": {},
   "outputs": [
    {
     "data": {
      "text/plain": [
       "Character               0\n",
       "Name                    0\n",
       "Allegiances             0\n",
       "Death Year            444\n",
       "Book of Death         442\n",
       "Death Chapter         448\n",
       "Book Intro Chapter      0\n",
       "Gender                  0\n",
       "Nobility                0\n",
       "GoT                     0\n",
       "CoK                     0\n",
       "SoS                     0\n",
       "FfC                     0\n",
       "DwD                     0\n",
       "dtype: int64"
      ]
     },
     "execution_count": 5,
     "metadata": {},
     "output_type": "execute_result"
    }
   ],
   "source": [
    "train.isnull().sum()\n",
    "# 再次檢查，資料基本上都沒有空值了(Death Year, Book of Death, Death Chapter不會直接使用故暫時忽略)"
   ]
  },
  {
   "cell_type": "markdown",
   "id": "f0e4915b",
   "metadata": {},
   "source": [
    "\n",
    "### 2-2 Death Year , Book of Death , Death Chapter三個欄位取Death Chapter來做預測\n",
    "#### 建立新欄位名為Death，將Death Chapter有數值的那筆資料的Death設為1 (有死掉)，沒有值就設為0(沒有死)\n",
    "\n",
    " "
   ]
  },
  {
   "cell_type": "code",
   "execution_count": 6,
   "id": "28b27117",
   "metadata": {},
   "outputs": [
    {
     "data": {
      "text/html": [
       "<div>\n",
       "<style scoped>\n",
       "    .dataframe tbody tr th:only-of-type {\n",
       "        vertical-align: middle;\n",
       "    }\n",
       "\n",
       "    .dataframe tbody tr th {\n",
       "        vertical-align: top;\n",
       "    }\n",
       "\n",
       "    .dataframe thead th {\n",
       "        text-align: right;\n",
       "    }\n",
       "</style>\n",
       "<table border=\"1\" class=\"dataframe\">\n",
       "  <thead>\n",
       "    <tr style=\"text-align: right;\">\n",
       "      <th></th>\n",
       "      <th>Character</th>\n",
       "      <th>Name</th>\n",
       "      <th>Allegiances</th>\n",
       "      <th>Death Year</th>\n",
       "      <th>Book of Death</th>\n",
       "      <th>Death Chapter</th>\n",
       "      <th>Book Intro Chapter</th>\n",
       "      <th>Gender</th>\n",
       "      <th>Nobility</th>\n",
       "      <th>GoT</th>\n",
       "      <th>CoK</th>\n",
       "      <th>SoS</th>\n",
       "      <th>FfC</th>\n",
       "      <th>DwD</th>\n",
       "      <th>Death</th>\n",
       "    </tr>\n",
       "  </thead>\n",
       "  <tbody>\n",
       "    <tr>\n",
       "      <th>0</th>\n",
       "      <td>155</td>\n",
       "      <td>Creighton Longbough</td>\n",
       "      <td>None</td>\n",
       "      <td>NaN</td>\n",
       "      <td>NaN</td>\n",
       "      <td>NaN</td>\n",
       "      <td>4.0</td>\n",
       "      <td>1</td>\n",
       "      <td>0</td>\n",
       "      <td>0</td>\n",
       "      <td>0</td>\n",
       "      <td>0</td>\n",
       "      <td>1</td>\n",
       "      <td>0</td>\n",
       "      <td>0</td>\n",
       "    </tr>\n",
       "    <tr>\n",
       "      <th>1</th>\n",
       "      <td>362</td>\n",
       "      <td>Howd Wanderer</td>\n",
       "      <td>Wildling</td>\n",
       "      <td>NaN</td>\n",
       "      <td>NaN</td>\n",
       "      <td>NaN</td>\n",
       "      <td>58.0</td>\n",
       "      <td>1</td>\n",
       "      <td>1</td>\n",
       "      <td>0</td>\n",
       "      <td>0</td>\n",
       "      <td>0</td>\n",
       "      <td>0</td>\n",
       "      <td>1</td>\n",
       "      <td>0</td>\n",
       "    </tr>\n",
       "    <tr>\n",
       "      <th>2</th>\n",
       "      <td>868</td>\n",
       "      <td>Watt</td>\n",
       "      <td>Night's Watch</td>\n",
       "      <td>299.0</td>\n",
       "      <td>3.0</td>\n",
       "      <td>75.0</td>\n",
       "      <td>69.0</td>\n",
       "      <td>1</td>\n",
       "      <td>0</td>\n",
       "      <td>0</td>\n",
       "      <td>0</td>\n",
       "      <td>1</td>\n",
       "      <td>0</td>\n",
       "      <td>0</td>\n",
       "      <td>1</td>\n",
       "    </tr>\n",
       "    <tr>\n",
       "      <th>3</th>\n",
       "      <td>101</td>\n",
       "      <td>Borcas</td>\n",
       "      <td>Night's Watch</td>\n",
       "      <td>NaN</td>\n",
       "      <td>NaN</td>\n",
       "      <td>NaN</td>\n",
       "      <td>48.0</td>\n",
       "      <td>1</td>\n",
       "      <td>0</td>\n",
       "      <td>1</td>\n",
       "      <td>0</td>\n",
       "      <td>0</td>\n",
       "      <td>0</td>\n",
       "      <td>0</td>\n",
       "      <td>0</td>\n",
       "    </tr>\n",
       "    <tr>\n",
       "      <th>4</th>\n",
       "      <td>199</td>\n",
       "      <td>Donnis</td>\n",
       "      <td>House Stark</td>\n",
       "      <td>NaN</td>\n",
       "      <td>NaN</td>\n",
       "      <td>NaN</td>\n",
       "      <td>7.0</td>\n",
       "      <td>1</td>\n",
       "      <td>0</td>\n",
       "      <td>1</td>\n",
       "      <td>0</td>\n",
       "      <td>0</td>\n",
       "      <td>0</td>\n",
       "      <td>0</td>\n",
       "      <td>0</td>\n",
       "    </tr>\n",
       "  </tbody>\n",
       "</table>\n",
       "</div>"
      ],
      "text/plain": [
       "   Character                 Name    Allegiances  Death Year  Book of Death  \\\n",
       "0        155  Creighton Longbough           None         NaN            NaN   \n",
       "1        362        Howd Wanderer       Wildling         NaN            NaN   \n",
       "2        868                 Watt  Night's Watch       299.0            3.0   \n",
       "3        101               Borcas  Night's Watch         NaN            NaN   \n",
       "4        199               Donnis    House Stark         NaN            NaN   \n",
       "\n",
       "   Death Chapter  Book Intro Chapter  Gender  Nobility  GoT  CoK  SoS  FfC  \\\n",
       "0            NaN                 4.0       1         0    0    0    0    1   \n",
       "1            NaN                58.0       1         1    0    0    0    0   \n",
       "2           75.0                69.0       1         0    0    0    1    0   \n",
       "3            NaN                48.0       1         0    1    0    0    0   \n",
       "4            NaN                 7.0       1         0    1    0    0    0   \n",
       "\n",
       "   DwD Death  \n",
       "0    0     0  \n",
       "1    1     0  \n",
       "2    0     1  \n",
       "3    0     0  \n",
       "4    0     0  "
      ]
     },
     "execution_count": 6,
     "metadata": {},
     "output_type": "execute_result"
    }
   ],
   "source": [
    "train['Death']=''\n",
    "# 有掛掉的數量\n",
    "train['Death Chapter'].notnull().sum()\n",
    "#將死掉的欄位替換為1\n",
    "train.loc[train['Death Chapter'].notnull(),'Death']=1  # 死掉了\n",
    "train.loc[train['Death Chapter'].isnull(),'Death']=0   # 沒有死\n",
    "train.head()\n"
   ]
  },
  {
   "cell_type": "markdown",
   "id": "4f2228e0",
   "metadata": {},
   "source": [
    "### 2-3 將Allegiances轉成dummy特徵\n",
    "(Allegiances包含有幾種分類就會變成幾個特徵，值是0或1，本來的資料集就會再增加約20種特徵)\n",
    "\n"
   ]
  },
  {
   "cell_type": "code",
   "execution_count": 7,
   "id": "a825687e",
   "metadata": {},
   "outputs": [],
   "source": [
    "train = pd.get_dummies(train, columns=['Allegiances'])\n",
    "test = pd.get_dummies(test, columns=['Allegiances'])"
   ]
  },
  {
   "cell_type": "code",
   "execution_count": 8,
   "id": "bbc0e22a",
   "metadata": {},
   "outputs": [
    {
     "data": {
      "text/html": [
       "<div>\n",
       "<style scoped>\n",
       "    .dataframe tbody tr th:only-of-type {\n",
       "        vertical-align: middle;\n",
       "    }\n",
       "\n",
       "    .dataframe tbody tr th {\n",
       "        vertical-align: top;\n",
       "    }\n",
       "\n",
       "    .dataframe thead th {\n",
       "        text-align: right;\n",
       "    }\n",
       "</style>\n",
       "<table border=\"1\" class=\"dataframe\">\n",
       "  <thead>\n",
       "    <tr style=\"text-align: right;\">\n",
       "      <th></th>\n",
       "      <th>Character</th>\n",
       "      <th>Name</th>\n",
       "      <th>Death Year</th>\n",
       "      <th>Book of Death</th>\n",
       "      <th>Death Chapter</th>\n",
       "      <th>Book Intro Chapter</th>\n",
       "      <th>Gender</th>\n",
       "      <th>Nobility</th>\n",
       "      <th>GoT</th>\n",
       "      <th>CoK</th>\n",
       "      <th>...</th>\n",
       "      <th>Allegiances_House Tyrell</th>\n",
       "      <th>Allegiances_Lannister</th>\n",
       "      <th>Allegiances_Martell</th>\n",
       "      <th>Allegiances_Night's Watch</th>\n",
       "      <th>Allegiances_None</th>\n",
       "      <th>Allegiances_Stark</th>\n",
       "      <th>Allegiances_Targaryen</th>\n",
       "      <th>Allegiances_Tully</th>\n",
       "      <th>Allegiances_Tyrell</th>\n",
       "      <th>Allegiances_Wildling</th>\n",
       "    </tr>\n",
       "  </thead>\n",
       "  <tbody>\n",
       "    <tr>\n",
       "      <th>0</th>\n",
       "      <td>155</td>\n",
       "      <td>Creighton Longbough</td>\n",
       "      <td>NaN</td>\n",
       "      <td>NaN</td>\n",
       "      <td>NaN</td>\n",
       "      <td>4.0</td>\n",
       "      <td>1</td>\n",
       "      <td>0</td>\n",
       "      <td>0</td>\n",
       "      <td>0</td>\n",
       "      <td>...</td>\n",
       "      <td>0</td>\n",
       "      <td>0</td>\n",
       "      <td>0</td>\n",
       "      <td>0</td>\n",
       "      <td>1</td>\n",
       "      <td>0</td>\n",
       "      <td>0</td>\n",
       "      <td>0</td>\n",
       "      <td>0</td>\n",
       "      <td>0</td>\n",
       "    </tr>\n",
       "    <tr>\n",
       "      <th>1</th>\n",
       "      <td>362</td>\n",
       "      <td>Howd Wanderer</td>\n",
       "      <td>NaN</td>\n",
       "      <td>NaN</td>\n",
       "      <td>NaN</td>\n",
       "      <td>58.0</td>\n",
       "      <td>1</td>\n",
       "      <td>1</td>\n",
       "      <td>0</td>\n",
       "      <td>0</td>\n",
       "      <td>...</td>\n",
       "      <td>0</td>\n",
       "      <td>0</td>\n",
       "      <td>0</td>\n",
       "      <td>0</td>\n",
       "      <td>0</td>\n",
       "      <td>0</td>\n",
       "      <td>0</td>\n",
       "      <td>0</td>\n",
       "      <td>0</td>\n",
       "      <td>1</td>\n",
       "    </tr>\n",
       "    <tr>\n",
       "      <th>2</th>\n",
       "      <td>868</td>\n",
       "      <td>Watt</td>\n",
       "      <td>299.0</td>\n",
       "      <td>3.0</td>\n",
       "      <td>75.0</td>\n",
       "      <td>69.0</td>\n",
       "      <td>1</td>\n",
       "      <td>0</td>\n",
       "      <td>0</td>\n",
       "      <td>0</td>\n",
       "      <td>...</td>\n",
       "      <td>0</td>\n",
       "      <td>0</td>\n",
       "      <td>0</td>\n",
       "      <td>1</td>\n",
       "      <td>0</td>\n",
       "      <td>0</td>\n",
       "      <td>0</td>\n",
       "      <td>0</td>\n",
       "      <td>0</td>\n",
       "      <td>0</td>\n",
       "    </tr>\n",
       "    <tr>\n",
       "      <th>3</th>\n",
       "      <td>101</td>\n",
       "      <td>Borcas</td>\n",
       "      <td>NaN</td>\n",
       "      <td>NaN</td>\n",
       "      <td>NaN</td>\n",
       "      <td>48.0</td>\n",
       "      <td>1</td>\n",
       "      <td>0</td>\n",
       "      <td>1</td>\n",
       "      <td>0</td>\n",
       "      <td>...</td>\n",
       "      <td>0</td>\n",
       "      <td>0</td>\n",
       "      <td>0</td>\n",
       "      <td>1</td>\n",
       "      <td>0</td>\n",
       "      <td>0</td>\n",
       "      <td>0</td>\n",
       "      <td>0</td>\n",
       "      <td>0</td>\n",
       "      <td>0</td>\n",
       "    </tr>\n",
       "    <tr>\n",
       "      <th>4</th>\n",
       "      <td>199</td>\n",
       "      <td>Donnis</td>\n",
       "      <td>NaN</td>\n",
       "      <td>NaN</td>\n",
       "      <td>NaN</td>\n",
       "      <td>7.0</td>\n",
       "      <td>1</td>\n",
       "      <td>0</td>\n",
       "      <td>1</td>\n",
       "      <td>0</td>\n",
       "      <td>...</td>\n",
       "      <td>0</td>\n",
       "      <td>0</td>\n",
       "      <td>0</td>\n",
       "      <td>0</td>\n",
       "      <td>0</td>\n",
       "      <td>0</td>\n",
       "      <td>0</td>\n",
       "      <td>0</td>\n",
       "      <td>0</td>\n",
       "      <td>0</td>\n",
       "    </tr>\n",
       "  </tbody>\n",
       "</table>\n",
       "<p>5 rows × 35 columns</p>\n",
       "</div>"
      ],
      "text/plain": [
       "   Character                 Name  Death Year  Book of Death  Death Chapter  \\\n",
       "0        155  Creighton Longbough         NaN            NaN            NaN   \n",
       "1        362        Howd Wanderer         NaN            NaN            NaN   \n",
       "2        868                 Watt       299.0            3.0           75.0   \n",
       "3        101               Borcas         NaN            NaN            NaN   \n",
       "4        199               Donnis         NaN            NaN            NaN   \n",
       "\n",
       "   Book Intro Chapter  Gender  Nobility  GoT  CoK  ...  \\\n",
       "0                 4.0       1         0    0    0  ...   \n",
       "1                58.0       1         1    0    0  ...   \n",
       "2                69.0       1         0    0    0  ...   \n",
       "3                48.0       1         0    1    0  ...   \n",
       "4                 7.0       1         0    1    0  ...   \n",
       "\n",
       "   Allegiances_House Tyrell  Allegiances_Lannister  Allegiances_Martell  \\\n",
       "0                         0                      0                    0   \n",
       "1                         0                      0                    0   \n",
       "2                         0                      0                    0   \n",
       "3                         0                      0                    0   \n",
       "4                         0                      0                    0   \n",
       "\n",
       "  Allegiances_Night's Watch  Allegiances_None  Allegiances_Stark  \\\n",
       "0                         0                 1                  0   \n",
       "1                         0                 0                  0   \n",
       "2                         1                 0                  0   \n",
       "3                         1                 0                  0   \n",
       "4                         0                 0                  0   \n",
       "\n",
       "   Allegiances_Targaryen  Allegiances_Tully  Allegiances_Tyrell  \\\n",
       "0                      0                  0                   0   \n",
       "1                      0                  0                   0   \n",
       "2                      0                  0                   0   \n",
       "3                      0                  0                   0   \n",
       "4                      0                  0                   0   \n",
       "\n",
       "   Allegiances_Wildling  \n",
       "0                     0  \n",
       "1                     1  \n",
       "2                     0  \n",
       "3                     0  \n",
       "4                     0  \n",
       "\n",
       "[5 rows x 35 columns]"
      ]
     },
     "execution_count": 8,
     "metadata": {},
     "output_type": "execute_result"
    }
   ],
   "source": [
    "train.head()\n",
    "# 可發現由Allegiances衍生多出很多欄位"
   ]
  },
  {
   "cell_type": "markdown",
   "id": "308da286",
   "metadata": {},
   "source": [
    "### 標準化(後來發現無法改善模型)\n",
    "我覺得Book Intro Chapter要做標準化，因為其他欄位都是0/1的格式，這個欄位的數值影響會被放大\n",
    "#### 此欄未移除後可提升訓練accuracy，但對預測測試資料沒有幫助"
   ]
  },
  {
   "cell_type": "code",
   "execution_count": 9,
   "id": "3e17d9e7",
   "metadata": {},
   "outputs": [
    {
     "data": {
      "text/plain": [
       "'\\nmax_intro = train[\"Book Intro Chapter\"].max() # 最大值\\nmin_intro = train[\"Book Intro Chapter\"].min() # 最小值\\n\\ntrain[\"intro times\"] = (train[\"Book Intro Chapter\"] - min_intro) / (max_intro-min_intro) # min-max\\ntrain[\"intro times\"] = (train[\"Book Intro Chapter\"] - min_intro) / (max_intro-min_intro) # min-max\\n\\nmax_intro = test[\"Book Intro Chapter\"].max() # 最大值\\nmin_intro = test[\"Book Intro Chapter\"].min() # 最小值\\n\\ntest[\"intro times\"] = (test[\"Book Intro Chapter\"] - min_intro) / (max_intro-min_intro) # min-max\\ntest[\"intro times\"] = (test[\"Book Intro Chapter\"] - min_intro) / (max_intro-min_intro) # min-max\\n'"
      ]
     },
     "execution_count": 9,
     "metadata": {},
     "output_type": "execute_result"
    }
   ],
   "source": [
    "'''\n",
    "max_intro = train[\"Book Intro Chapter\"].max() # 最大值\n",
    "min_intro = train[\"Book Intro Chapter\"].min() # 最小值\n",
    "\n",
    "train[\"intro times\"] = (train[\"Book Intro Chapter\"] - min_intro) / (max_intro-min_intro) # min-max\n",
    "train[\"intro times\"] = (train[\"Book Intro Chapter\"] - min_intro) / (max_intro-min_intro) # min-max\n",
    "\n",
    "max_intro = test[\"Book Intro Chapter\"].max() # 最大值\n",
    "min_intro = test[\"Book Intro Chapter\"].min() # 最小值\n",
    "\n",
    "test[\"intro times\"] = (test[\"Book Intro Chapter\"] - min_intro) / (max_intro-min_intro) # min-max\n",
    "test[\"intro times\"] = (test[\"Book Intro Chapter\"] - min_intro) / (max_intro-min_intro) # min-max\n",
    "'''"
   ]
  },
  {
   "cell_type": "markdown",
   "id": "33eaf7e0",
   "metadata": {},
   "source": [
    "### 特徵選取\n",
    "透過卡方檢定的P-value來確認要不要拒絕虛無假設(H0)\n",
    "p值大於0.05，就無法拒絕"
   ]
  },
  {
   "cell_type": "code",
   "execution_count": 10,
   "id": "92616b74",
   "metadata": {},
   "outputs": [
    {
     "data": {
      "text/plain": [
       "\"\\nfrom  scipy.stats import chi2_contingency # 引用chi2_contingency\\nimport numpy as np # 引用numpy\\n\\nkf_data = np.array([train['Gender'], train['Death']])\\nkf = chi2_contingency(kf_data)\\nprint(kf)\\n\""
      ]
     },
     "execution_count": 10,
     "metadata": {},
     "output_type": "execute_result"
    }
   ],
   "source": [
    "\n",
    "'''\n",
    "from  scipy.stats import chi2_contingency # 引用chi2_contingency\n",
    "import numpy as np # 引用numpy\n",
    "\n",
    "kf_data = np.array([train['Gender'], train['Death']])\n",
    "kf = chi2_contingency(kf_data)\n",
    "print(kf)\n",
    "'''"
   ]
  },
  {
   "cell_type": "markdown",
   "id": "302063a5",
   "metadata": {},
   "source": [
    "### 2-4 亂數拆成訓練集與測試集\n",
    ">-  這裡不可以把test.csv放進來訓練\n",
    ">-  訓練集75%\n",
    ">-  測試集25% (y==>Death, 模型要預測Death欄位的值)"
   ]
  },
  {
   "cell_type": "code",
   "execution_count": 11,
   "id": "a957eb29",
   "metadata": {},
   "outputs": [],
   "source": [
    "from sklearn.model_selection import train_test_split\n",
    "\n",
    "# 若是要分割資料為train, val，用train_test_split()\n",
    "y = train['Death'].values # 預測用的label\n",
    "x = train.drop('Name',axis=1).drop('Death',axis=1).drop('Death Year',axis=1).drop('Book of Death',axis=1).drop('Death Chapter',axis=1).values\n",
    "#刪除沒有要使用到的欄位 \n",
    "x_train,x_test,y_train,y_test = train_test_split(x.astype(int), y.astype(int), train_size=0.75)\n"
   ]
  },
  {
   "cell_type": "markdown",
   "id": "603e08ef",
   "metadata": {},
   "source": [
    "##  3. 建立分類模型\n",
    "**使用scikit-learn的DecisionTreeClassifier進行預測**\n",
    ">- 決策樹參數簡介(可調整決策樹參數以增加Accuracy):**\n",
    ">- https://blog.csdn.net/TeFuirnever/article/details/99656571\n",
    "\n",
    "**適合用於小樣本數、屬性不多時的參數調整:**\n",
    ">- criterion:（default = gini）可以設為gini或是entropy\n",
    ">- max_depth:決策樹深度\n",
    ">- min_samples_leaf:每個節點需要的最小樣本數\n",
    ">- min_impurity_split:（default = 1e-7）如果小於此門檻值，就不再作分枝\n"
   ]
  },
  {
   "cell_type": "code",
   "execution_count": 12,
   "id": "3e4c1c4b",
   "metadata": {},
   "outputs": [],
   "source": [
    "from sklearn.model_selection import cross_val_score\n",
    "from sklearn import tree\n",
    "\n",
    "clf = tree.DecisionTreeClassifier(criterion='entropy', max_depth=28,min_samples_leaf=2,random_state=10)\n",
    "ice_fire_model = clf.fit(x_train, y_train)# 建立分類器ice_fire_model\n"
   ]
  },
  {
   "cell_type": "markdown",
   "id": "a0165a5c",
   "metadata": {},
   "source": [
    "   \n",
    "## 4. 訓練結果\n",
    ">- 做出Confusion Matrix\n",
    ">- 計算Precision, Recall, Accuracy \n",
    "\n"
   ]
  },
  {
   "cell_type": "code",
   "execution_count": 13,
   "id": "eb83ba13",
   "metadata": {},
   "outputs": [
    {
     "name": "stdout",
     "output_type": "stream",
     "text": [
      "[[91 20]\n",
      " [30 31]]\n",
      "              precision    recall  f1-score   support\n",
      "\n",
      "           0       0.75      0.82      0.78       111\n",
      "           1       0.61      0.51      0.55        61\n",
      "\n",
      "    accuracy                           0.71       172\n",
      "   macro avg       0.68      0.66      0.67       172\n",
      "weighted avg       0.70      0.71      0.70       172\n",
      "\n"
     ]
    }
   ],
   "source": [
    "from sklearn.metrics import precision_score\n",
    "from sklearn.metrics import recall_score\n",
    "from sklearn.metrics import accuracy_score\n",
    "from sklearn.metrics import confusion_matrix\n",
    "from sklearn.metrics import classification_report\n",
    "\n",
    "\n",
    "y_test_predicted = ice_fire_model.predict(x_test)# 使用從資料集中分割出來的test做出來的 預測結果\n",
    "\n",
    "                                     # 真實類別   預測結果\n",
    "#print('precision: ',precision_score(y_test, y_test_predicted))\n",
    "#print('recall: ',recall_score(y_test, y_test_predicted))\n",
    "#print('accuracy: ',accuracy_score(y_test, y_test_predicted))\n",
    "\n",
    "print(confusion_matrix(y_test, y_test_predicted))\n",
    "print(classification_report(y_test, y_test_predicted))"
   ]
  },
  {
   "cell_type": "markdown",
   "id": "453f5d4d",
   "metadata": {},
   "source": [
    "## 5. 預測test.csv的角色生死\n",
    ">- test.csv就是另一份沒標籤的資料"
   ]
  },
  {
   "cell_type": "code",
   "execution_count": 14,
   "id": "899544d4",
   "metadata": {},
   "outputs": [
    {
     "name": "stderr",
     "output_type": "stream",
     "text": [
      "C:\\Users\\fff\\anaconda3\\lib\\site-packages\\sklearn\\base.py:443: UserWarning: X has feature names, but DecisionTreeClassifier was fitted without feature names\n",
      "  warnings.warn(\n"
     ]
    }
   ],
   "source": [
    "test_X = test.drop('Name',axis=1)\n",
    "\n",
    "# 預測結果\n",
    "predicted_death =  ice_fire_model.predict(test_X)"
   ]
  },
  {
   "cell_type": "code",
   "execution_count": 15,
   "id": "e7c3cc18",
   "metadata": {},
   "outputs": [],
   "source": [
    "# 讀取test.csv，輸出結果至test.csv\n",
    "\n",
    "results = {'Character': test['Character'],   #輸出共有兩行，第一行是角色編號，第二行是(預測結果)是否死亡\n",
    "           'Death': predicted_death}\n",
    "\n",
    "submission = pd.DataFrame(results)\n",
    "\n",
    "submission.to_csv(\"submission.csv\", index=False, header=1)"
   ]
  },
  {
   "cell_type": "markdown",
   "id": "0da80e46",
   "metadata": {},
   "source": [
    "## 6. 產出決策樹的圖"
   ]
  },
  {
   "cell_type": "code",
   "execution_count": 16,
   "id": "fac1932f",
   "metadata": {},
   "outputs": [
    {
     "data": {
      "image/png": "[encoded data removed]",
      "text/plain": [
       "<Figure size 432x288 with 1 Axes>"
      ]
     },
     "metadata": {
      "needs_background": "light"
     },
     "output_type": "display_data"
    },
    {
     "data": {
      "text/plain": [
       "<Figure size 432x288 with 0 Axes>"
      ]
     },
     "metadata": {},
     "output_type": "display_data"
    }
   ],
   "source": [
    "import matplotlib.pyplot as plt\n",
    "\n",
    "plt.figure()  #開啟一個畫布\n",
    "tree.plot_tree(ice_fire_model, max_depth=3, filled=True) \n",
    "plt.show() \n",
    "plt.savefig(\"tree.png\") # 畫出來的圖怪怪的，所以改用下面另一種方法"
   ]
  },
  {
   "cell_type": "markdown",
   "id": "f57b4968",
   "metadata": {},
   "source": [
    "### 提示:\n",
    " **GraphViz's executables not found**\n",
    ">- 1. 要先下載一個zip檔案\n",
    ">- 2. conda install graphviz:\n",
    ">- https://stackoverflow.com/questions/28312534/graphvizs-executables-are-not-found-python-3-4"
   ]
  },
  {
   "cell_type": "code",
   "execution_count": 17,
   "id": "0dbac0fd",
   "metadata": {},
   "outputs": [
    {
     "name": "stdout",
     "output_type": "stream",
     "text": [
      "已儲存my_tree.png\n"
     ]
    }
   ],
   "source": [
    "import graphviz\n",
    "from six import StringIO  \n",
    "import pydotplus \n",
    "\n",
    "dotfile = StringIO() \n",
    "tree.export_graphviz(ice_fire_model, out_file=dotfile,\n",
    "                      class_names=['0','1'],  \n",
    "                      filled=True, rounded=True,  \n",
    "                     special_characters=True) \n",
    "pydotplus.graph_from_dot_data(dotfile.getvalue()).write_png(\"my_tree.png\")\n",
    "\n",
    "print(\"已儲存my_tree.png\")"
   ]
  },
  {
   "cell_type": "code",
   "execution_count": null,
   "id": "b0e4a03d",
   "metadata": {},
   "outputs": [],
   "source": []
  },
  {
   "cell_type": "code",
   "execution_count": null,
   "id": "c0ce6350",
   "metadata": {},
   "outputs": [],
   "source": []
  }
 ],
 "metadata": {
  "kernelspec": {
   "display_name": "Python 3 (ipykernel)",
   "language": "python",
   "name": "python3"
  },
  "language_info": {
   "codemirror_mode": {
    "name": "ipython",
    "version": 3
   },
   "file_extension": ".py",
   "mimetype": "text/x-python",
   "name": "python",
   "nbconvert_exporter": "python",
   "pygments_lexer": "ipython3",
   "version": "3.9.12"
  }
 },
 "nbformat": 4,
 "nbformat_minor": 5
}
